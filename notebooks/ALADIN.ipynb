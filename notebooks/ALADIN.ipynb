{
 "cells": [
  {
   "cell_type": "code",
   "execution_count": 1,
   "id": "36c7ed24",
   "metadata": {},
   "outputs": [
    {
     "ename": "ModuleNotFoundError",
     "evalue": "No module named 'mpl_toolkits.basemap'",
     "output_type": "error",
     "traceback": [
      "\u001b[1;31m---------------------------------------------------------------------------\u001b[0m",
      "\u001b[1;31mModuleNotFoundError\u001b[0m                       Traceback (most recent call last)",
      "\u001b[1;32m~\\AppData\\Local\\Temp/ipykernel_25444/3655362097.py\u001b[0m in \u001b[0;36m<module>\u001b[1;34m\u001b[0m\n\u001b[0;32m      7\u001b[0m \u001b[1;32mfrom\u001b[0m \u001b[0mscipy\u001b[0m \u001b[1;32mimport\u001b[0m \u001b[0mstats\u001b[0m\u001b[1;33m\u001b[0m\u001b[1;33m\u001b[0m\u001b[0m\n\u001b[0;32m      8\u001b[0m \u001b[1;32mimport\u001b[0m \u001b[0mnetCDF4\u001b[0m \u001b[1;32mas\u001b[0m \u001b[0mnc\u001b[0m\u001b[1;33m\u001b[0m\u001b[1;33m\u001b[0m\u001b[0m\n\u001b[1;32m----> 9\u001b[1;33m \u001b[1;32mfrom\u001b[0m \u001b[0mmpl_toolkits\u001b[0m\u001b[1;33m.\u001b[0m\u001b[0mbasemap\u001b[0m \u001b[1;32mimport\u001b[0m \u001b[0mBasemap\u001b[0m\u001b[1;33m\u001b[0m\u001b[1;33m\u001b[0m\u001b[0m\n\u001b[0m",
      "\u001b[1;31mModuleNotFoundError\u001b[0m: No module named 'mpl_toolkits.basemap'"
     ]
    }
   ],
   "source": [
    "import numpy as np\n",
    "import pandas as pd\n",
    "import matplotlib.pyplot as plt\n",
    "import xarray as xr\n",
    "import os \n",
    "import datetime\n",
    "from scipy import stats\n",
    "import netCDF4 as nc\n",
    "from mpl_toolkits.basemap import Basemap"
   ]
  },
  {
   "cell_type": "code",
   "execution_count": null,
   "id": "3854bcb5",
   "metadata": {},
   "outputs": [],
   "source": [
    "vis = pd.read_csv(\"../data/vis_12_2021_01_2022.csv\", index_col=[0])\n",
    "vis.index = pd.to_datetime(vis.index, format=\"%d/%m/%Y\")\n",
    "vis"
   ]
  },
  {
   "cell_type": "code",
   "execution_count": null,
   "id": "dafc53bc",
   "metadata": {},
   "outputs": [],
   "source": [
    "stn_coord = pd.read_csv(\"../data/coords.csv\")\n",
    "stn = stn_coord[\"stn\"]\n",
    "stn_lat = stn_coord[\"lat\"]\n",
    "stn_lon = stn_coord[\"lon\"]"
   ]
  },
  {
   "cell_type": "code",
   "execution_count": null,
   "id": "3c07a324",
   "metadata": {},
   "outputs": [],
   "source": [
    "# cap visibility maximum to 10km\n",
    "# training set from Dec 2021 to Jan 2022, possible to add Feb?, validation for Mar??\n",
    "vis.columns\n",
    "for i in vis.columns:\n",
    "    vis[i] = np.where(vis[i] > 10, 10, vis[i])\n",
    "vis"
   ]
  },
  {
   "cell_type": "code",
   "execution_count": null,
   "id": "a9299cbf",
   "metadata": {},
   "outputs": [],
   "source": [
    "vis['KAN'].describe()"
   ]
  },
  {
   "cell_type": "code",
   "execution_count": null,
   "id": "e0b6f06e-27ae-41f2-895b-1404e14f316d",
   "metadata": {},
   "outputs": [],
   "source": [
    "missing_vis=np.isnan(vis).sum()\n",
    "missing_vis"
   ]
  },
  {
   "cell_type": "code",
   "execution_count": null,
   "id": "0572772d-65cd-4459-9522-3d812d2487a0",
   "metadata": {},
   "outputs": [],
   "source": [
    "missing_vis=pd.DataFrame(missing_vis, columns=['missing'])\n",
    "missing=missing_vis['missing']\n",
    "name=missing_vis.index\n",
    "len(name)"
   ]
  },
  {
   "cell_type": "code",
   "execution_count": null,
   "id": "612159ee-0e42-4332-8cb2-f5859055b32f",
   "metadata": {},
   "outputs": [],
   "source": [
    "# plotting missing values for each station\n",
    "\n",
    "fig, ax=plt.subplots(figsize=(6,10))\n",
    "ax.barh(name, missing)\n"
   ]
  },
  {
   "cell_type": "code",
   "execution_count": null,
   "id": "6f96109b",
   "metadata": {},
   "outputs": [],
   "source": [
    "bsc = xr.open_dataset(\"nc_files/ALADIN DUST/2021120100_3H_ALADIN_DUST.nc\")\n",
    "bsc\n"
   ]
  },
  {
   "cell_type": "code",
   "execution_count": null,
   "id": "c6f38d84",
   "metadata": {},
   "outputs": [],
   "source": [
    "#11 19\n",
    "bsc.time.to_series()[19]"
   ]
  },
  {
   "cell_type": "code",
   "execution_count": null,
   "id": "5b9cdc2a",
   "metadata": {},
   "outputs": [],
   "source": [
    "nc_files = os.listdir(\"nc_files/ALADIN DUST/\")\n",
    "len(nc_files)"
   ]
  },
  {
   "cell_type": "code",
   "execution_count": null,
   "id": "8ae9b499",
   "metadata": {},
   "outputs": [],
   "source": [
    "day1_lead_all = pd.DataFrame(columns=[\"stn\", \"lon\", \"lat\"])\n",
    "for nc_file in nc_files:\n",
    "    bsc = xr.open_dataset(\"nc_files/ALADIN DUST/\"+nc_file)\n",
    "    day1_lead = [[\"stn\", \"lon\", \"lat\", bsc.od550_dust.time.to_series()[19]]]\n",
    "    for i in range(len(stn)):\n",
    "        day1_bsc = bsc.od550_dust.isel(time = 19).sel(lat = stn_lat[i], \n",
    "                                                     lon = stn_lon[i], \n",
    "                                                     method = 'nearest')\n",
    "        day1_lead.append([stn[i], stn_lon[i], stn_lat[i], day1_bsc.to_dict()[\"data\"]])\n",
    "    day1_lead = pd.DataFrame(day1_lead[1:len(day1_lead)], columns = day1_lead[0])\n",
    "    day1_lead_all = day1_lead_all.merge(day1_lead, \n",
    "                                        left_on=[\"stn\", \"lon\", \"lat\"], \n",
    "                                        right_on=[\"stn\", \"lon\", \"lat\"],\n",
    "                                        how = \"outer\")\n",
    "#data for 1 day leadtime for all sations\n",
    "day1_lead_all"
   ]
  },
  {
   "cell_type": "code",
   "execution_count": null,
   "id": "2a97a2dd",
   "metadata": {},
   "outputs": [],
   "source": [
    "day1_lead_all_t = day1_lead_all.transpose()\n",
    "day1_lead_all_t.columns = day1_lead_all_t.iloc[0]\n",
    "day1_lead_all_t = day1_lead_all_t.drop([\"lon\", \"lat\", \"stn\"])\n",
    "\n",
    "# multiply AOD by 10\n",
    "# day1_lead_all_t = day1_lead_all_t * 10\n",
    "\n",
    "day1_lead_all_t = day1_lead_all_t.reset_index()\n",
    "day1_lead_all_t"
   ]
  },
  {
   "cell_type": "code",
   "execution_count": null,
   "id": "13738936",
   "metadata": {},
   "outputs": [],
   "source": [
    "day1_lead_all_t[\"index\"] = pd.to_datetime(day1_lead_all_t[\"index\"], format=\"%Y-%m-%d\").dt.date\n",
    "day1_lead_all_t = day1_lead_all_t.set_index(\"index\")\n",
    "day1_lead_all_t"
   ]
  },
  {
   "cell_type": "code",
   "execution_count": null,
   "id": "e9f87afd",
   "metadata": {},
   "outputs": [],
   "source": [
    "# na.array(vis['YOL'])\n",
    "# merged = pd.merge(vis[[\"YOL\"]], day1_lead_all_t[[\"YOL\"]], left_index=True, right_on=\"index\")\n",
    "merged = pd.concat([vis[[\"YOL\"]], day1_lead_all_t[[\"YOL\"]]], axis=1)\n",
    "merged.columns = [\"Visibility\", \"AOD\"]\n",
    "merged"
   ]
  },
  {
   "cell_type": "code",
   "execution_count": null,
   "id": "5f0cdd67",
   "metadata": {},
   "outputs": [],
   "source": [
    "# plt.rc('font', family='serif')\n",
    "# plt.rc('xtick', labelsize='x-small')\n",
    "# plt.rc('ytick', labelsize='x-small')\n",
    "\n",
    "cor_ls = []\n",
    "\n",
    "fig = plt.figure(figsize=(12,16))\n",
    "# fig.subplots_adjust(hspace=0.1, wspace=0.1)\n",
    "\n",
    "for i, j in enumerate(stn):\n",
    "    merged = pd.concat([vis[[j]], day1_lead_all_t[[j]]], axis=1)\n",
    "    merged.columns = [\"Visibility\", \"AOD\"]\n",
    "    a=merged.dropna()\n",
    "#     regression part\n",
    "    slope, intercept, r_value, p_value, std_err = stats.linregress(list(a['AOD']),list(a['Visibility']))\n",
    "    line = (slope*a['AOD'])+intercept\n",
    "    \n",
    "    # append correlation\n",
    "    cor_ls.append([stn_lat[i], stn_lon[i], j, round(r_value, 2), round(p_value, 2)])\n",
    "    \n",
    "    ax = fig.add_subplot(8,6,i+1, )\n",
    "    ax.scatter(merged['AOD'], merged['Visibility'], color = 'k')\n",
    "    ax.plot(list(a['AOD']), line, 'r')\n",
    "    title = j+': y={:.2f}x+{:.2f} \\n '.format(slope,intercept)  + 'r={:.2f}, '.format(r_value) + 'p-value={:.2f}'.format(p_value)\n",
    "\n",
    "    ax.set_title(title, fontsize = 10)\n",
    "#     ax.set_xlim([0, 1.5])\n",
    "    ax.set_ylim([-1, 11])\n",
    "    \n",
    "#     ax.set_ylabel('Visibility (in Km)')\n",
    "#     ax.set_xlabel('bbb')\n",
    "# fig.suptitle('a')\n",
    "fig.supxlabel('AOD')\n",
    "fig.supylabel('Visibility (in Km)')\n",
    "fig.tight_layout(rect=(0.0,0,1,1))\n",
    "    \n",
    "# plt.tick_params(labelcolor='none', which='both', top=False, bottom=False, left=False, right=False)\n",
    "# plt.xlabel(\"common X\")\n",
    "# plt.ylabel(\"common Y\")    \n",
    "#     plt.subplot(7,7,i+1)\n",
    "#     plt.scatter(merged['AOD'], merged['Visibility'], color = 'k', ls='solid')\n",
    "#     plt.title(j)\n",
    "# plt.xlabel('AOD')\n",
    "# plt.ylabel('Visibility (in Km)')\n",
    "#     plt.text(j)\n",
    "#     for j in stn:\n",
    "        \n",
    "#         plt.subplot(2, 3, i)\n",
    "#         plt.scatter(merged['AOD'], merged['Visibility'])\n",
    "# # #         plt.text(0.5, 0.5, str((2, 3, i)),\n",
    "# # #                  fontsize=18, ha='center')\n",
    "            \n",
    "\n",
    "\n",
    "# # fig = plt.figure(figsize=(3,3))\n",
    "# fig, axs = plt.subplots(nrows=7, ncols=7, figsize=(15,15))\n",
    "# plt.subplots_adjust(hspace=0.2)\n",
    "# for j, ax in zip(stn, axs.ravel()):\n",
    "#     print(j, ax)\n",
    "#     merged = pd.concat([vis[[j]], day1_lead_all_t[[j]]], axis=1)\n",
    "#     merged.columns = [\"Visibility\", \"AOD\"]\n",
    "# #     merged['AOD'].scatter(merged['Visibility'],ax=ax)\n",
    "#     plt.scatter(merged['AOD'], merged['Visibility'],ax=ax)\n",
    "# #     plt.figure()\n",
    "# #     plt.scatter(merged['AOD'], merged['Visibility'],color='k', ls='solid')\n",
    "# #     plt.show()\n",
    "    \n",
    "    "
   ]
  },
  {
   "cell_type": "code",
   "execution_count": null,
   "id": "4b29ed8b",
   "metadata": {},
   "outputs": [],
   "source": [
    "cor_df = pd.DataFrame(cor_ls, columns=[\"Lat\", \"Long\", \"Station\", \"r_value\", \"p_value\"])\n",
    "cor_df['p'] = 2\n",
    "cor_df.loc[cor_df['p_value'] > 0.05, 'p'] = 1\n",
    "cor_df"
   ]
  },
  {
   "cell_type": "code",
   "execution_count": null,
   "id": "cf07dac4",
   "metadata": {},
   "outputs": [],
   "source": [
    "# cor_df.to_csv(\"cor_files/day1/ALADIN_1d.csv\", index=False)\n",
    "cor_df.to_csv(\"cor_files/day2/ALADIN_2d.csv\", index=False)\n",
    "# cor_df.to_csv(\"cor_files/day3/ALADIN_3d.csv\", index=False)"
   ]
  },
  {
   "cell_type": "code",
   "execution_count": null,
   "id": "9dd29df8",
   "metadata": {},
   "outputs": [],
   "source": [
    "# plot coastlines with Basemap\n",
    "plt.figure(figsize=(8, 8))\n",
    "m = Basemap(projection='cyl', resolution='h',\n",
    "llcrnrlat=3, urcrnrlat=15,\n",
    "llcrnrlon=2, urcrnrlon=15)\n",
    "# m.drawmapboundary(fill_color='#DDEEFF')\n",
    "# m.fillcontinents(color='#FFEEDD')\n",
    "m.drawcoastlines(color='grey', zorder=2)\n",
    "m.drawcountries(color='black', zorder=2)\n",
    "# m.shadedrelief()\n",
    "m.drawstates()\n",
    "\n",
    "# m.readshapefile('./nigeria_states/nigeria_states', 'nigeria_states')\n",
    "\n",
    "# plot locations\n",
    "m.scatter(cor_df[\"Long\"], cor_df[\"Lat\"], latlon=True, \n",
    "          c=cor_df[\"r_value\"], s=cor_df[\"p\"]*100,\n",
    "          edgecolors=\"black\", zorder=3,\n",
    "          cmap='jet', alpha=0.7)\n",
    "\n",
    "# create colorbar and legend\n",
    "m.colorbar(label=r'r', ticks=np.linspace(1, -1, 9), shrink=0.755)\n",
    "# plt.set_ticks(np.linspace(1, -1, 9))\n",
    "plt.xticks(range(2, 16, 2))\n",
    "plt.yticks(range(3, 16, 2))\n",
    "plt.show()"
   ]
  },
  {
   "cell_type": "code",
   "execution_count": null,
   "id": "8c05b923-b919-42a3-8df9-ffb24930b247",
   "metadata": {},
   "outputs": [],
   "source": []
  }
 ],
 "metadata": {
  "kernelspec": {
   "display_name": "Python 3 (ipykernel)",
   "language": "python",
   "name": "python3"
  },
  "language_info": {
   "codemirror_mode": {
    "name": "ipython",
    "version": 3
   },
   "file_extension": ".py",
   "mimetype": "text/x-python",
   "name": "python",
   "nbconvert_exporter": "python",
   "pygments_lexer": "ipython3",
   "version": "3.9.7"
  }
 },
 "nbformat": 4,
 "nbformat_minor": 5
}
