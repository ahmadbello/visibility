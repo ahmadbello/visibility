{
 "cells": [
  {
   "cell_type": "code",
   "execution_count": null,
   "id": "36c7ed24",
   "metadata": {},
   "outputs": [],
   "source": [
    "import numpy as np\n",
    "import pandas as pd\n",
    "import matplotlib.pyplot as plt\n",
    "import xarray as xr\n",
    "import scipy\n",
    "import requests \n",
    "import os \n",
    "import datetime\n",
    "from scipy import stats\n",
    "import netCDF4 as nc\n",
    "from mpl_toolkits.basemap import Basemap"
   ]
  },
  {
   "cell_type": "code",
   "execution_count": null,
   "id": "dafc53bc",
   "metadata": {},
   "outputs": [],
   "source": [
    "stn_coord=pd.read_csv('../data/observation/coords.csv')\n",
    "stn=stn_coord['stn']\n",
    "stn_lat=stn_coord['lat']\n",
    "stn_lon=stn_coord['lon']"
   ]
  },
  {
   "cell_type": "code",
   "execution_count": null,
   "id": "25915f25-e3db-485b-bbcb-08d522d3c3e1",
   "metadata": {},
   "outputs": [],
   "source": [
    "# ploting study area and stations location\n",
    "\n",
    "fig=plt.figure(figsize=(8, 8))\n",
    "m=Basemap(projection='cyl', resolution='h',llcrnrlat=3, urcrnrlat=15, llcrnrlon=2, urcrnrlon=15)\n",
    "m.etopo(scale=5)\n",
    "m.drawcoastlines(linewidth=1, color='black', zorder=2)\n",
    "m.drawcountries(linewidth=1, color='black', zorder=3)\n",
    "\n",
    "m.scatter(stn_lon, stn_lat, latlon=True, c='red', s=50, edgecolors='black', zorder=3, cmap='jet')\n",
    "\n",
    "for i in range(len(stn_lat)):\n",
    "    plt.annotate(stn[i], (stn_lon[i], stn_lat[i]+0.2))\n",
    "# Map (long, lat) to (x, y) for plotting\n",
    "#  x, y = m(-122.3, 47.6)\n",
    "#  plt.plot(x, y, 'ok', markersize=5)\n",
    "#  plt.text(x, y, ' Seattle', fontsize=12);\n",
    "plt.xticks(range(2, 16, 2))\n",
    "plt.yticks(range(3, 16, 2))\n",
    "\n",
    "plt.savefig('../plots/study.png', dpi=150)"
   ]
  },
  {
   "cell_type": "code",
   "execution_count": null,
   "id": "3854bcb5",
   "metadata": {},
   "outputs": [],
   "source": [
    "# Daily visibility data for 47 stations in Nigeria from Dec 2021 to Mar 2022\n",
    "vis=pd.read_csv('../data/observation/vis_12_2021_03_2022.csv', index_col=[0])\n",
    "vis.index=pd.to_datetime(vis.index, format='%d/%m/%Y')\n",
    "vis"
   ]
  },
  {
   "cell_type": "code",
   "execution_count": null,
   "id": "3c07a324",
   "metadata": {},
   "outputs": [],
   "source": [
    "# cap visibility maximum to 10km\n",
    "# training set from Dec 2021 to Jan 2022, possible to add Feb?, validation for Mar??\n",
    "vis.columns\n",
    "for i in vis.columns:\n",
    "    vis[i]=np.where(vis[i]>10, 10, vis[i])\n",
    "vis_train=vis.iloc[:90]\n",
    "vis_test=vis.iloc[90:]\n",
    "vis"
   ]
  },
  {
   "cell_type": "code",
   "execution_count": null,
   "id": "a9299cbf",
   "metadata": {},
   "outputs": [],
   "source": [
    "vis_train['KAN'].describe()\n",
    "vis['KAN'].hist(bins=5)"
   ]
  },
  {
   "cell_type": "code",
   "execution_count": null,
   "id": "e0b6f06e-27ae-41f2-895b-1404e14f316d",
   "metadata": {},
   "outputs": [],
   "source": [
    "missing_train=np.isnan(vis_train).sum()\n",
    "missing_test=np.isnan(vis_test).sum()\n",
    "# print(missing_test)\n",
    "# print(missing_train)\n",
    "\n",
    "name=missing_train.index\n",
    "print(name)\n",
    "print(len(name))"
   ]
  },
  {
   "cell_type": "code",
   "execution_count": null,
   "id": "612159ee-0e42-4332-8cb2-f5859055b32f",
   "metadata": {},
   "outputs": [],
   "source": [
    "# plotting missing values for each station, the red line shows position of 20% missing values\n",
    "bar_width=0.25\n",
    "fig, (ax1, ax2) =plt.subplots(2, figsize=(10,8))\n",
    "\n",
    "ax1.bar(name, missing_train)\n",
    "ax1.set_title('(a)')\n",
    "ax1.tick_params(axis='x', labelrotation=90)\n",
    "ax1.set_ylim([0,90])\n",
    "ax1.axhline(y=(len(vis_train)/100)*20, color='r', linestyle='--')\n",
    "ax1.set_ylabel('Days (Dec 2021 to Feb 2022)')\n",
    "\n",
    "ax2.bar(name, missing_test)\n",
    "ax2.set_title('(b)')\n",
    "ax2.tick_params(axis='x', labelrotation=90)\n",
    "ax2.set_ylim([0,30])\n",
    "ax2.axhline(y=(len(vis_test)/100)*20, color='r', linestyle='--')\n",
    "ax2.set_ylabel('Days (Mar 2022)')\n",
    "\n",
    "fig.tight_layout(pad=1)\n",
    "\n",
    "fig.savefig('../plots/missing_data.png', dpi=150)"
   ]
  },
  {
   "cell_type": "code",
   "execution_count": null,
   "id": "6f96109b",
   "metadata": {},
   "outputs": [],
   "source": [
    "# bsc=xr.open_dataset('../data/models/ALADIN_DUST/2021120100_3H_ALADIN_DUST.nc')\n",
    "# bsc"
   ]
  },
  {
   "cell_type": "code",
   "execution_count": null,
   "id": "7dad2a96-31f1-4502-9533-8f098320e247",
   "metadata": {},
   "outputs": [],
   "source": [
    "# all_models=['ALADIN_DUST', \n",
    "# all_variables=['od550_dust'\n",
    "all_day1_lead=[('a', 'ALADIN_DUST', 'od550_dust', (11, 19)),\n",
    "               ('b', 'BSC_DREAM8b_V2', 'OD550_DUST', (7, 15)),\n",
    "               ('c', 'MACC-ECMWF', 'OD550_DUST', (11, 19)),\n",
    "               ('d', 'DREAM8-MACC', 'OD550_DUST', (11, 19)),\n",
    "               ('e', 'ICON-ART', 'OD550_DUST', (11, 19)),\n",
    "               ('f', 'LOTOSEUROS', 'OD550_DUST', (11, 19)),\n",
    "               ('g', 'MEDIAN', 'OD550_DUST', (7, 15)),\n",
    "               ('h', 'NASA-GEOS', 'OD550_DUST', (11, 19)),\n",
    "               ('i', 'NCEP-NGAC', 'OD550_DUST', (11, 19)),\n",
    "               ('j', 'NMMB-BSC', 'od550_dust', (7, 15)),\n",
    "               ('k', 'NOA-WRF-CHEM', 'OD550_DUST', (7, 15)),\n",
    "               ('l', 'SILAM', 'OD550_DUST', (11, 19))]\n",
    "               "
   ]
  },
  {
   "cell_type": "code",
   "execution_count": null,
   "id": "3e559f65-0351-46f1-a947-ca38ec73fb54",
   "metadata": {},
   "outputs": [],
   "source": [
    "# for h, i, j, k in all_day1_lead:\n",
    "#     print(k[1])"
   ]
  },
  {
   "cell_type": "code",
   "execution_count": null,
   "id": "c6f38d84",
   "metadata": {},
   "outputs": [],
   "source": [
    "#11 19\n",
    "# bsc.time.to_series()[19]\n",
    "h='a'\n",
    "i='ALADIN_DUST'\n",
    "j='od550_dust'\n",
    "k=(11, 19)\n",
    "k[0]\n",
    "model_dir=f'../data/models/{i}/'\n",
    "nc_files=os.listdir(model_dir)\n",
    "len(nc_files)"
   ]
  },
  {
   "cell_type": "code",
   "execution_count": null,
   "id": "e56dd65c-71e9-4db4-b713-8a9e90700d7b",
   "metadata": {},
   "outputs": [],
   "source": [
    "# for h, i, j, k in all_day1_lead:\n",
    "#     # print(k[1])\n",
    "#     model_dir=f'../data/models/{i}/'\n",
    "#     nc_files=os.listdir(model_dir)\n",
    "    # print(nc_files)\n",
    "    \n",
    "    \n",
    "    "
   ]
  },
  {
   "cell_type": "code",
   "execution_count": null,
   "id": "8ae9b499",
   "metadata": {},
   "outputs": [],
   "source": [
    "day1_lead_all=pd.DataFrame(columns=['stn', 'lon', 'lat'])\n",
    "\n",
    "for nc_file in nc_files:\n",
    "    bsc=xr.open_dataset(model_dir+nc_file)\n",
    "    # print(bsc)\n",
    "    day1_lead=[['stn', 'lon', 'lat', bsc[j].time.to_series()[k[0]]]]\n",
    "    for i in range(len(stn)):\n",
    "        day1_bsc=bsc[j].isel(time=k[0]).sel(lat=stn_lat[i], lon=stn_lon[i], method='nearest')\n",
    "        day1_lead.append([stn[i], stn_lon[i], stn_lat[i], day1_bsc.to_dict()['data']])\n",
    "    day1_lead=pd.DataFrame(day1_lead[1:len(day1_lead)], columns=day1_lead[0])\n",
    "    day1_lead_all=day1_lead_all.merge(day1_lead, left_on=['stn', 'lon', 'lat'], right_on=['stn', 'lon', 'lat'], how='outer')\n",
    "#data for 1 day leadtime for all sations\n",
    "day1_lead_all"
   ]
  },
  {
   "cell_type": "code",
   "execution_count": null,
   "id": "2a97a2dd",
   "metadata": {},
   "outputs": [],
   "source": [
    "day1_lead_all.index=day1_lead_all['stn']\n",
    "day1_lead_all_t=day1_lead_all.transpose()\n",
    "day1_lead_all_t=day1_lead_all_t.drop(['lon', 'lat', 'stn'])\n",
    "\n",
    "# multiply AOD by 10\n",
    "# day1_lead_all_t = day1_lead_all_t * 10\n",
    "\n",
    "# day1_lead_all_t = day1_lead_all_t.reset_index()\n",
    "day1_lead_all_t"
   ]
  },
  {
   "cell_type": "code",
   "execution_count": null,
   "id": "13738936",
   "metadata": {},
   "outputs": [],
   "source": [
    "day1_lead_all_t.index=pd.to_datetime(day1_lead_all_t.index, format=\"%Y-%m-%d\").date\n",
    "day1_lead_all_t.index=pd.to_datetime(day1_lead_all_t.index)\n",
    "day1_lead_all_t"
   ]
  },
  {
   "cell_type": "code",
   "execution_count": null,
   "id": "e9f87afd",
   "metadata": {},
   "outputs": [],
   "source": [
    "# na.array(vis['YOL'])\n",
    "# merged = pd.merge(vis[[\"YOL\"]], day1_lead_all_t[[\"YOL\"]], left_index=True, right_on=\"index\")\n",
    "# merged = pd.concat([vis[[\"YOL\"]], day1_lead_all_t[[\"YOL\"]]], axis=1)\n",
    "# merged.columns = [\"Visibility\", \"AOD\"]\n",
    "# merged"
   ]
  },
  {
   "cell_type": "code",
   "execution_count": null,
   "id": "c41be2f6-39e4-4161-bd9b-0cb6bacd331c",
   "metadata": {},
   "outputs": [],
   "source": [
    "merged = pd.merge(vis['ABE'], day1_lead_all_t['ABE'], how='inner', left_index=True, right_index=True)\n",
    "merged.columns = [\"Visibility\", \"AOD\"]\n",
    "merged.dropna(inplace=True)\n",
    "merged\n",
    "\n",
    "# Regression"
   ]
  },
  {
   "cell_type": "code",
   "execution_count": null,
   "id": "5f0cdd67",
   "metadata": {},
   "outputs": [],
   "source": [
    "# plt.rc('font', family='serif')\n",
    "# plt.rc('xtick', labelsize='x-small')\n",
    "# plt.rc('ytick', labelsize='x-small')\n",
    "cor_ls = []\n",
    "\n",
    "fig = plt.figure(figsize=(12,16))\n",
    "# fig.subplots_adjust(hspace=0.1, wspace=0.1)\n",
    "\n",
    "for i, j in enumerate(stn):\n",
    "    merged = pd.concat([vis[[j]], day1_lead_all_t[[j]]], axis=1)\n",
    "    merged.columns = [\"Visibility\", \"AOD\"]\n",
    "    \n",
    "    a=merged.dropna()\n",
    "#     regression part\n",
    "    slope, intercept, r_value, p_value, std_err = stats.linregress(list(a['AOD']),list(a['Visibility']))\n",
    "    line = (slope*a['AOD'])+intercept\n",
    "    \n",
    "    # append correlation\n",
    "    cor_ls.append([stn_lat[i], stn_lon[i], j, round(r_value, 2), round(p_value, 2)])\n",
    "    \n",
    "    ax = fig.add_subplot(8,6,i+1, )\n",
    "    ax.scatter(merged['AOD'], merged['Visibility'], color = 'k')\n",
    "    ax.plot(list(a['AOD']), line, 'r')\n",
    "    title = j+': y={:.2f}x+{:.2f} \\n '.format(slope,intercept)  + 'r={:.2f}, '.format(r_value) + 'p-value={:.2f}'.format(p_value)\n",
    "\n",
    "    ax.set_title(title, fontsize = 10)\n",
    "#     ax.set_xlim([0, 1.5])\n",
    "    ax.set_ylim([-1, 11])\n",
    "    \n",
    "#     ax.set_ylabel('Visibility (in Km)')\n",
    "#     ax.set_xlabel('bbb')\n",
    "# fig.suptitle('a')\n",
    "fig.supxlabel('AOD')\n",
    "fig.supylabel('Visibility (in Km)')\n",
    "fig.tight_layout(rect=(0.0,0,1,1))\n",
    "    \n",
    "# plt.tick_params(labelcolor='none', which='both', top=False, bottom=False, left=False, right=False)\n",
    "# plt.xlabel(\"common X\")\n",
    "# plt.ylabel(\"common Y\")    \n",
    "#     plt.subplot(7,7,i+1)\n",
    "#     plt.scatter(merged['AOD'], merged['Visibility'], color = 'k', ls='solid')\n",
    "#     plt.title(j)\n",
    "# plt.xlabel('AOD')\n",
    "# plt.ylabel('Visibility (in Km)')\n",
    "#     plt.text(j)\n",
    "#     for j in stn:\n",
    "        \n",
    "#         plt.subplot(2, 3, i)\n",
    "#         plt.scatter(merged['AOD'], merged['Visibility'])\n",
    "# # #         plt.text(0.5, 0.5, str((2, 3, i)),\n",
    "# # #                  fontsize=18, ha='center')\n",
    "            \n",
    "\n",
    "\n",
    "# # fig = plt.figure(figsize=(3,3))\n",
    "# fig, axs = plt.subplots(nrows=7, ncols=7, figsize=(15,15))\n",
    "# plt.subplots_adjust(hspace=0.2)\n",
    "# for j, ax in zip(stn, axs.ravel()):\n",
    "#     print(j, ax)\n",
    "#     merged = pd.concat([vis[[j]], day1_lead_all_t[[j]]], axis=1)\n",
    "#     merged.columns = [\"Visibility\", \"AOD\"]\n",
    "# #     merged['AOD'].scatter(merged['Visibility'],ax=ax)\n",
    "#     plt.scatter(merged['AOD'], merged['Visibility'],ax=ax)\n",
    "# #     plt.figure()\n",
    "# #     plt.scatter(merged['AOD'], merged['Visibility'],color='k', ls='solid')\n",
    "# #     plt.show()\n",
    "    \n",
    "    "
   ]
  },
  {
   "cell_type": "code",
   "execution_count": null,
   "id": "4b29ed8b",
   "metadata": {},
   "outputs": [],
   "source": [
    "cor_df = pd.DataFrame(cor_ls, columns=[\"Lat\", \"Long\", \"Station\", \"r_value\", \"p_value\"])\n",
    "cor_df['p'] = 2\n",
    "cor_df.loc[cor_df['p_value'] > 0.05, 'p'] = 1\n",
    "cor_df"
   ]
  },
  {
   "cell_type": "code",
   "execution_count": null,
   "id": "cf07dac4",
   "metadata": {},
   "outputs": [],
   "source": [
    "# cor_df.to_csv(\"cor_files/day1/ALADIN_1d.csv\", index=False)\n",
    "cor_df.to_csv(\"cor_files/day2/ALADIN_2d.csv\", index=False)\n",
    "# cor_df.to_csv(\"cor_files/day3/ALADIN_3d.csv\", index=False)"
   ]
  },
  {
   "cell_type": "code",
   "execution_count": null,
   "id": "9dd29df8",
   "metadata": {},
   "outputs": [],
   "source": [
    "# plot coastlines with Basemap\n",
    "plt.figure(figsize=(8, 8))\n",
    "m = Basemap(projection='cyl', resolution='h',\n",
    "llcrnrlat=3, urcrnrlat=15,\n",
    "llcrnrlon=2, urcrnrlon=15)\n",
    "# m.drawmapboundary(fill_color='#DDEEFF')\n",
    "# m.fillcontinents(color='#FFEEDD')\n",
    "m.drawcoastlines(color='grey', zorder=2)\n",
    "m.drawcountries(color='black', zorder=2)\n",
    "# m.shadedrelief()\n",
    "m.drawstates()\n",
    "\n",
    "# m.readshapefile('./nigeria_states/nigeria_states', 'nigeria_states')\n",
    "\n",
    "# plot locations\n",
    "m.scatter(cor_df[\"Long\"], cor_df[\"Lat\"], latlon=True, \n",
    "          c=cor_df[\"r_value\"], s=cor_df[\"p\"]*100,\n",
    "          edgecolors=\"black\", zorder=3,\n",
    "          cmap='jet', alpha=0.7)\n",
    "\n",
    "# create colorbar and legend\n",
    "m.colorbar(label=r'r', ticks=np.linspace(1, -1, 9), shrink=0.755)\n",
    "# plt.set_ticks(np.linspace(1, -1, 9))\n",
    "plt.xticks(range(2, 16, 2))\n",
    "plt.yticks(range(3, 16, 2))\n",
    "plt.show()"
   ]
  },
  {
   "cell_type": "code",
   "execution_count": null,
   "id": "8c05b923-b919-42a3-8df9-ffb24930b247",
   "metadata": {},
   "outputs": [],
   "source": []
  },
  {
   "cell_type": "code",
   "execution_count": null,
   "id": "311040fa-3d64-4b59-933a-7c5b15e09d6f",
   "metadata": {},
   "outputs": [],
   "source": []
  },
  {
   "cell_type": "markdown",
   "id": "94cb680e-c571-4d0e-bdc6-5110246cb697",
   "metadata": {},
   "source": [
    "### Probablity of exceedence based on ensemble "
   ]
  },
  {
   "cell_type": "code",
   "execution_count": 1,
   "id": "44873497-bebd-4c10-9dd4-c6484f3d911c",
   "metadata": {},
   "outputs": [],
   "source": [
    "import numpy as np\n",
    "import pandas as pd\n",
    "\n",
    "from sklearn.model_selection import train_test_split\n",
    "from sklearn.linear_model import LogisticRegression"
   ]
  },
  {
   "cell_type": "code",
   "execution_count": 2,
   "id": "975e6a37-6ae1-4fc9-88ef-aa50822137fc",
   "metadata": {},
   "outputs": [
    {
     "data": {
      "text/plain": [
       "95    0.323252\n",
       "96    0.121945\n",
       "97    0.886595\n",
       "98    0.464036\n",
       "99    0.005237\n",
       "dtype: float64"
      ]
     },
     "execution_count": 2,
     "metadata": {},
     "output_type": "execute_result"
    }
   ],
   "source": [
    "# simulating some data\n",
    "\n",
    "tseries=pd.Series(np.random.random(100))\n",
    "tseries.tail()"
   ]
  },
  {
   "cell_type": "code",
   "execution_count": 3,
   "id": "313bf045-baf2-4174-8bcd-48500def2d5c",
   "metadata": {},
   "outputs": [
    {
     "data": {
      "text/html": [
       "<div>\n",
       "<style scoped>\n",
       "    .dataframe tbody tr th:only-of-type {\n",
       "        vertical-align: middle;\n",
       "    }\n",
       "\n",
       "    .dataframe tbody tr th {\n",
       "        vertical-align: top;\n",
       "    }\n",
       "\n",
       "    .dataframe thead th {\n",
       "        text-align: right;\n",
       "    }\n",
       "</style>\n",
       "<table border=\"1\" class=\"dataframe\">\n",
       "  <thead>\n",
       "    <tr style=\"text-align: right;\">\n",
       "      <th></th>\n",
       "      <th>t-2</th>\n",
       "      <th>t-1</th>\n",
       "      <th>t-0</th>\n",
       "      <th>t+1</th>\n",
       "    </tr>\n",
       "  </thead>\n",
       "  <tbody>\n",
       "    <tr>\n",
       "      <th>0</th>\n",
       "      <td>0.615602</td>\n",
       "      <td>0.939098</td>\n",
       "      <td>0.615571</td>\n",
       "      <td>0.155945</td>\n",
       "    </tr>\n",
       "    <tr>\n",
       "      <th>1</th>\n",
       "      <td>0.939098</td>\n",
       "      <td>0.615571</td>\n",
       "      <td>0.155945</td>\n",
       "      <td>0.369595</td>\n",
       "    </tr>\n",
       "    <tr>\n",
       "      <th>2</th>\n",
       "      <td>0.615571</td>\n",
       "      <td>0.155945</td>\n",
       "      <td>0.369595</td>\n",
       "      <td>0.882565</td>\n",
       "    </tr>\n",
       "    <tr>\n",
       "      <th>3</th>\n",
       "      <td>0.155945</td>\n",
       "      <td>0.369595</td>\n",
       "      <td>0.882565</td>\n",
       "      <td>0.826987</td>\n",
       "    </tr>\n",
       "    <tr>\n",
       "      <th>4</th>\n",
       "      <td>0.369595</td>\n",
       "      <td>0.882565</td>\n",
       "      <td>0.826987</td>\n",
       "      <td>0.078323</td>\n",
       "    </tr>\n",
       "    <tr>\n",
       "      <th>...</th>\n",
       "      <td>...</td>\n",
       "      <td>...</td>\n",
       "      <td>...</td>\n",
       "      <td>...</td>\n",
       "    </tr>\n",
       "    <tr>\n",
       "      <th>92</th>\n",
       "      <td>0.007439</td>\n",
       "      <td>0.853912</td>\n",
       "      <td>0.165510</td>\n",
       "      <td>0.323252</td>\n",
       "    </tr>\n",
       "    <tr>\n",
       "      <th>93</th>\n",
       "      <td>0.853912</td>\n",
       "      <td>0.165510</td>\n",
       "      <td>0.323252</td>\n",
       "      <td>0.121945</td>\n",
       "    </tr>\n",
       "    <tr>\n",
       "      <th>94</th>\n",
       "      <td>0.165510</td>\n",
       "      <td>0.323252</td>\n",
       "      <td>0.121945</td>\n",
       "      <td>0.886595</td>\n",
       "    </tr>\n",
       "    <tr>\n",
       "      <th>95</th>\n",
       "      <td>0.323252</td>\n",
       "      <td>0.121945</td>\n",
       "      <td>0.886595</td>\n",
       "      <td>0.464036</td>\n",
       "    </tr>\n",
       "    <tr>\n",
       "      <th>96</th>\n",
       "      <td>0.121945</td>\n",
       "      <td>0.886595</td>\n",
       "      <td>0.464036</td>\n",
       "      <td>0.005237</td>\n",
       "    </tr>\n",
       "  </tbody>\n",
       "</table>\n",
       "<p>97 rows × 4 columns</p>\n",
       "</div>"
      ],
      "text/plain": [
       "         t-2       t-1       t-0       t+1\n",
       "0   0.615602  0.939098  0.615571  0.155945\n",
       "1   0.939098  0.615571  0.155945  0.369595\n",
       "2   0.615571  0.155945  0.369595  0.882565\n",
       "3   0.155945  0.369595  0.882565  0.826987\n",
       "4   0.369595  0.882565  0.826987  0.078323\n",
       "..       ...       ...       ...       ...\n",
       "92  0.007439  0.853912  0.165510  0.323252\n",
       "93  0.853912  0.165510  0.323252  0.121945\n",
       "94  0.165510  0.323252  0.121945  0.886595\n",
       "95  0.323252  0.121945  0.886595  0.464036\n",
       "96  0.121945  0.886595  0.464036  0.005237\n",
       "\n",
       "[97 rows x 4 columns]"
      ]
     },
     "execution_count": 3,
     "metadata": {},
     "output_type": "execute_result"
    }
   ],
   "source": [
    "# using 3 lags -- the no. of observation we look back to model the next value of the series\n",
    "N_LAGS=3\n",
    "\n",
    "# constructing a set of observations based on past recent values (lags)\n",
    "\n",
    "tseries_df=pd.concat([tseries.shift(i) for i in range(N_LAGS, -1, -1)], axis=1)\n",
    "\n",
    "# assigning column names and dropping na's\n",
    "\n",
    "tseries_df.columns=['t-'+str(i) for i in list(reversed(range(N_LAGS)))]+['t+1']\n",
    "tseries_df=tseries_df.dropna().reset_index(drop=True)\n",
    "tseries_df"
   ]
  },
  {
   "cell_type": "code",
   "execution_count": 45,
   "id": "b6bac4dd-6f84-4e09-8795-5425d47dcea4",
   "metadata": {},
   "outputs": [],
   "source": [
    "# the target variable is the column 't+1' representing the next value of the series\n",
    "y=tseries_df['t+1']\n",
    "\n",
    "# removing the target to create predictor variables\n",
    "X=tseries_df.drop('t+1', axis=1)\n",
    "\n",
    "# train/test split \n",
    "X_train, X_test, y_train, y_test = train_test_split(X, y, test_size=0.33, shuffle=False)\n",
    "\n",
    "# setting threshold to the 95th percentile\n",
    "thr=np.quantile(y_train, .95)\n"
   ]
  },
  {
   "cell_type": "code",
   "execution_count": 46,
   "id": "1658e119-c0be-4919-83ac-18e0dc10a63c",
   "metadata": {},
   "outputs": [
    {
     "data": {
      "text/plain": [
       "array([0.07956216, 0.04532982, 0.06864187, 0.05772812, 0.0542389 ,\n",
       "       0.05285436, 0.07259731, 0.04596259, 0.07511233, 0.06575675,\n",
       "       0.05140069, 0.06936529, 0.06163599, 0.04639801, 0.08802188,\n",
       "       0.05574677, 0.07020001, 0.07230755, 0.07465677, 0.05124361,\n",
       "       0.06285898, 0.06583928, 0.04887018, 0.07053539, 0.04677576,\n",
       "       0.06125991, 0.0436467 , 0.05236644, 0.06141769, 0.05191043,\n",
       "       0.06158747, 0.05908756, 0.06335157])"
      ]
     },
     "execution_count": 46,
     "metadata": {},
     "output_type": "execute_result"
    }
   ],
   "source": [
    "# transforming the numeric target to binary one\n",
    "y_train_binary=(y_train >= thr).astype(int)\n",
    "y_test_binary=(y_test >= thr).astype(int)\n",
    "\n",
    "# training a probabilistic classifier\n",
    "classifier=LogisticRegression()\n",
    "classifier.fit(X_train, y_train_binary)\n",
    "\n",
    "# predicting exceedance probability\n",
    "exceedance_prob_clf=classifier.predict_proba(X_test)[:,1]\n",
    "exceedance_prob_clf"
   ]
  },
  {
   "cell_type": "code",
   "execution_count": 15,
   "id": "efc1594f-10da-4f41-bcd3-b870c37c9129",
   "metadata": {},
   "outputs": [
    {
     "data": {
      "text/plain": [
       "0"
      ]
     },
     "execution_count": 15,
     "metadata": {},
     "output_type": "execute_result"
    }
   ],
   "source": [
    "sum(y_test_binary)"
   ]
  },
  {
   "cell_type": "markdown",
   "id": "c37a0ad4-3590-4548-a5bc-a045dd4656ac",
   "metadata": {},
   "source": [
    "### Ensemble approach"
   ]
  },
  {
   "cell_type": "code",
   "execution_count": 19,
   "id": "da6654e2-7b76-4d2b-ad00-7fe56df1fb14",
   "metadata": {},
   "outputs": [],
   "source": [
    "tseries=pd.Series(np.random.random(100))\n",
    "# using 3 lags -- the no. of observation we look back to model the next value of the series\n",
    "N_LAGS=3\n",
    "\n",
    "# constructing a set of observations based on past recent values (lags)\n",
    "\n",
    "tseries_df=pd.concat([tseries.shift(i) for i in range(N_LAGS, -1, -1)], axis=1)\n",
    "\n",
    "# assigning column names and dropping na's\n",
    "\n",
    "tseries_df.columns=['t-'+str(i) for i in list(reversed(range(N_LAGS)))]+['t+1']\n",
    "tseries_df=tseries_df.dropna().reset_index(drop=True)\n",
    "\n",
    "# the target variable is the column 't+1' representing the next value of the series\n",
    "y=tseries_df['t+1']\n",
    "\n",
    "# removing the target to create predictor variables\n",
    "X=tseries_df.drop('t+1', axis=1)\n",
    "\n",
    "# train/test split \n",
    "X_train, X_test, y_train, y_test = train_test_split(X, y, test_size=0.33, shuffle=False)"
   ]
  },
  {
   "cell_type": "code",
   "execution_count": 41,
   "id": "a5c8a505-fdb4-44ae-842b-92b151dfad12",
   "metadata": {},
   "outputs": [
    {
     "data": {
      "text/plain": [
       "array([0.18, 0.02, 0.17, 0.02, 0.07, 0.  , 0.  , 0.04, 0.4 , 0.01, 0.11,\n",
       "       0.2 , 0.  , 0.  , 0.04, 0.04, 0.01, 0.24, 0.02, 0.01, 0.  , 0.  ,\n",
       "       0.  , 0.29, 0.  , 0.1 , 0.01, 0.  , 0.  , 0.  , 0.23, 0.17, 0.  ])"
      ]
     },
     "execution_count": 41,
     "metadata": {},
     "output_type": "execute_result"
    }
   ],
   "source": [
    "# using the RF as ensemble of trees\n",
    "\n",
    "from sklearn.ensemble import RandomForestRegressor\n",
    "\n",
    "# training the model\n",
    "forecasting_ensemble=RandomForestRegressor()\n",
    "\n",
    "# here we use numerical target\n",
    "# which represent the next value of the time series\n",
    "forecasting_ensemble.fit(X_train, y_train)\n",
    "\n",
    "# retrieving the predictions from the trees\n",
    "per_tree_pred = [tree.predict(X_test) for tree in forecasting_ensemble.estimators_]\n",
    "per_tree_df = pd.DataFrame(per_tree_pred).T\n",
    "\n",
    "# computing the ratio of trees which predict a value above the threshold\n",
    "exceedance_prob_fe = per_tree_df.apply(lambda x: np.mean(x > thr), axis=1).values\n",
    "exceedance_prob_fe"
   ]
  },
  {
   "cell_type": "code",
   "execution_count": 47,
   "id": "51d80b80-bf7f-4eb5-b53f-dca0829fbc41",
   "metadata": {},
   "outputs": [
    {
     "data": {
      "text/plain": [
       "0.029850353287022707"
      ]
     },
     "execution_count": 47,
     "metadata": {},
     "output_type": "execute_result"
    }
   ],
   "source": [
    "from sklearn.metrics import brier_score_loss, roc_auc_score\n",
    "\n",
    "roc_auc_score(y_true=y_test_binary, y_score=exceedance_prob_fe)\n",
    "roc_auc_score(y_true=y_test_binary, y_score=exceedance_prob_clf)\n",
    "\n",
    "brier_score_loss(y_true=y_test_binary, y_prob=exceedance_prob_fe)\n",
    "brier_score_loss(y_true=y_test_binary, y_prob=exceedance_prob_clf)"
   ]
  },
  {
   "cell_type": "code",
   "execution_count": 49,
   "id": "8542215b-94b0-4322-a20d-ba70d6bd00f8",
   "metadata": {},
   "outputs": [
    {
     "data": {
      "text/plain": [
       "0.6666666666666666"
      ]
     },
     "execution_count": 49,
     "metadata": {},
     "output_type": "execute_result"
    }
   ],
   "source": [
    "np.mean([True,True,False])\n"
   ]
  }
 ],
 "metadata": {
  "kernelspec": {
   "display_name": "Python 3 (ipykernel)",
   "language": "python",
   "name": "python3"
  },
  "language_info": {
   "codemirror_mode": {
    "name": "ipython",
    "version": 3
   },
   "file_extension": ".py",
   "mimetype": "text/x-python",
   "name": "python",
   "nbconvert_exporter": "python",
   "pygments_lexer": "ipython3",
   "version": "3.9.7"
  }
 },
 "nbformat": 4,
 "nbformat_minor": 5
}
