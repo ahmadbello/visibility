{
 "cells": [
  {
   "cell_type": "code",
   "execution_count": 2,
   "id": "3f73409f-41f3-4304-8dca-92934b344afa",
   "metadata": {},
   "outputs": [],
   "source": [
    "import pandas as pd\n",
    "import numpy as np\n",
    "import xarray as xr\n",
    "import requests"
   ]
  },
  {
   "cell_type": "code",
   "execution_count": null,
   "id": "16f2e059-1dfa-4542-a7dd-a77b7eddc362",
   "metadata": {},
   "outputs": [],
   "source": [
    "# loop\n",
    "ds=\n",
    "for file in range():\n",
    "    URL=\n",
    "    result=request.get(URL)\n",
    "filename='test'+str(file)+'.nc'\n",
    "with open(filename, 'wb') as f:\n",
    "    f.wirte(result.content)\n"
   ]
  },
  {
   "cell_type": "code",
   "execution_count": null,
   "id": "4cfa4f6c-6504-49e9-aa3e-2c4941df1a6f",
   "metadata": {},
   "outputs": [],
   "source": [
    "# UN PW\n",
    "# sdswas.namee.rc@gmail.com\n",
    "# BarcelonaDustRC"
   ]
  },
  {
   "cell_type": "code",
   "execution_count": null,
   "id": "24700f6b-555c-4447-92ca-a91ee2e2d442",
   "metadata": {},
   "outputs": [],
   "source": [
    "# Complete files\n",
    "wget --user='user' --password='password'\n",
    "'https://dust.aemet.es/thredds/fileServer/dataRoot/MODEL/YEAR/MONTH/FILE'\n",
    "\n",
    "# working example\n",
    "wget --user='publicuser' --password='testpublicuser'\n",
    "'https://dust.aemet.es/thredds/fileServer/dataRoot/SILAM/2020/12/2020123100_SILAM.nc'"
   ]
  },
  {
   "cell_type": "code",
   "execution_count": null,
   "id": "2f4785a4-e5cd-471c-9468-170dc8b9fa1d",
   "metadata": {},
   "outputs": [],
   "source": [
    "# Subsetting time, latitude, longitude and variable\n",
    "wget --user='user' --password='password'\n",
    "'https://dust.aemet.es/thredds/ncss/dataRoot/MODEL/FILE.nc?var=OD550_DUST&var=SCONC_DUST&north=NORTH&west=WEST&east=EAST&south=SOUTH&horizStride=l&time_start=TIME_START&time_end=TIME_END&timeStride=l&addLatLon=true&accept=netcdf4'\n",
    "\n",
    "# working example\n",
    "wget --user='publicuser' --password='testpublicuser' -O\n",
    "20201231_3H_MEDIAN_test.nc\n",
    "'https://dust.aemet.es/thredds/ncss/dataRoot/MULTI-MODEL/20201231_3H_MEDIAN.nc?var=OD550_DUST&var=SCONC_DUST&north=50.0000&west=-20.0000&east=50.0000&south=0.0000&horizStride=l&time_start=2020-12-31T12%3A00Z&time_end=2021-01-01T12%3A00%3A00z&timeStride=l&addLatLon=true&accept=netcdf4'\n"
   ]
  },
  {
   "cell_type": "code",
   "execution_count": 8,
   "id": "5c8917f4-5713-492c-893d-8476ea1f29e4",
   "metadata": {},
   "outputs": [
    {
     "data": {
      "text/plain": [
       "1"
      ]
     },
     "execution_count": 8,
     "metadata": {},
     "output_type": "execute_result"
    }
   ],
   "source": [
    "import os\n",
    "os.system(\"wget --user=publicuser --password=testpublicuser https://dust.aemet.es/thredds/fileServer/dataRoot/SILAM/2020/12/2020123100_SILAM.nc\")"
   ]
  },
  {
   "cell_type": "code",
   "execution_count": null,
   "id": "9a1ec51f-5864-4ea5-8849-51750b7389c8",
   "metadata": {},
   "outputs": [],
   "source": []
  }
 ],
 "metadata": {
  "kernelspec": {
   "display_name": "Python 3 (ipykernel)",
   "language": "python",
   "name": "python3"
  },
  "language_info": {
   "codemirror_mode": {
    "name": "ipython",
    "version": 3
   },
   "file_extension": ".py",
   "mimetype": "text/x-python",
   "name": "python",
   "nbconvert_exporter": "python",
   "pygments_lexer": "ipython3",
   "version": "3.9.7"
  }
 },
 "nbformat": 4,
 "nbformat_minor": 5
}
